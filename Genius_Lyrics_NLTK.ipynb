{
 "cells": [
  {
   "cell_type": "code",
   "execution_count": 3,
   "id": "f870cc32-a932-4fa8-9f7e-1a18bf2fd097",
   "metadata": {},
   "outputs": [],
   "source": [
    "import nltk\n",
    "import requests\n",
    "from bs4 import BeautifulSoup\n",
    "import pandas as pd\n",
    "import time"
   ]
  },
  {
   "cell_type": "code",
   "execution_count": 4,
   "id": "b0679dac-ef57-49be-affc-5f2424ee2bba",
   "metadata": {},
   "outputs": [],
   "source": [
    "from nltk.corpus import stopwords\n",
    "from nltk.tokenize import sent_tokenize, word_tokenize\n",
    "from nltk.stem import WordNetLemmatizer\n",
    "from nltk import FreqDist"
   ]
  },
  {
   "cell_type": "code",
   "execution_count": 5,
   "id": "e1337d2d-e4e9-4de6-975c-f215058995ee",
   "metadata": {},
   "outputs": [],
   "source": [
    "headers = {'User-Agent': 'Mozilla/5.0 (Macintosh; Intel Mac OS X 10.12; rv:55.0) Gecko/20100101 Firefox/55.0',\n",
    "            }"
   ]
  },
  {
   "cell_type": "code",
   "execution_count": 6,
   "id": "e02e231a-a81a-43e3-b1e4-96f7708f6dd6",
   "metadata": {},
   "outputs": [],
   "source": [
    "db = (('Lupe-Fiasco','drill',['The-Lions-Deen','Ghoti','Precious-Things','Kiosk','Ms-Mural','Naomi','Drill-Music-In-Zion','Seattle','On-Faux-Nem'])\n",
    "         ,('J-Cole','off_season',['9-5-s-o-u-t-h','a-m-a-r-i','m-y-l-i-f-e','a-p-p-l-y-i-n-g-p-r-e-s-s-u-r-e','p-u-n-c-h-i-n-t-h-e-c-l-o-c-k','1-0-0-m-i-l','and-lil-baby-p-r-i-d-e-i-s-t-h-e-d-e-v-i-l','bas-and-6lack-l-e-t-g-o-m-y-h-a-n-d','t-h-e-c-l-i-m-b-b-a-c-k','c-l-o-s-e','and-bas-h-u-n-g-e-r-o-n-h-i-l-l-s-i-d-e'])\n",
    "           ,('Lupe-Fiasco','drogas',['Drogas','Manilla','gold-vs-the-right-things-to-do','WAV-files','Down','Haile-Selassie','Alan-Forever','Stronger','Sun-God-Sam-and-The-California-Drug-Deals','XO','jonylah-forever','Kingdom','Imagine','Stack-that-cheese','Cripple','King-Nas','Quotations-from-Chairman-Fred','Happy-Timbuck2-Day','Mural-Jr'])\n",
    "         )"
   ]
  },
  {
   "cell_type": "code",
   "execution_count": 7,
   "id": "736d7ab9-423c-4ad9-8557-6a48b36f77dd",
   "metadata": {},
   "outputs": [],
   "source": [
    "x = 0\n",
    "artist = db[x][0]\n",
    "album = db[x][1]\n",
    "tracklist = db[x][2]\n",
    "data = ''"
   ]
  },
  {
   "cell_type": "code",
   "execution_count": 8,
   "id": "67daf16d-e801-4f8a-9def-04907ea76152",
   "metadata": {},
   "outputs": [
    {
     "name": "stdout",
     "output_type": "stream",
     "text": [
      "The-Lions-Deen\n",
      "Ghoti\n",
      "Precious-Things\n",
      "Kiosk\n",
      "Ms-Mural\n",
      "Naomi\n",
      "Drill-Music-In-Zion\n",
      "Seattle\n",
      "On-Faux-Nem\n"
     ]
    }
   ],
   "source": [
    "for track in tracklist:\n",
    "    URL = f'https://genius.com/{artist}-{track}-lyrics'\n",
    "    page = requests.get(URL, headers=headers)\n",
    "    soup = BeautifulSoup(page.content, \"html.parser\")\n",
    "    lyrics = soup.find('div', class_='Lyrics__Container-sc-1ynbvzw-6 YYrds').text\n",
    "    data += lyrics\n",
    "    time.sleep(30)\n",
    "    print(track)"
   ]
  },
  {
   "cell_type": "code",
   "execution_count": 9,
   "id": "a585f2bb-36ba-40a7-818a-c5e3fabbe560",
   "metadata": {},
   "outputs": [],
   "source": [
    "stop_words = set(stopwords.words('english'))\n",
    "extra = {'’','j.','cole','&','!',',','?','\\'','\\'s','lupe','fiasco','m','e\\'s','x','ca','\\'m','\\'re','j','b','[',']','n\\'t','\\'ll','ai','lu','na','3','\\'\\'','``','(',')','1','2','X',':','intro','chorus','verse'}\n",
    "stop_words = stop_words.union(extra)\n",
    "filtered = []"
   ]
  },
  {
   "cell_type": "code",
   "execution_count": 10,
   "id": "3ac6f47d-cded-4733-8432-1d4f074e5a82",
   "metadata": {},
   "outputs": [],
   "source": [
    "raw_data = word_tokenize(data)\n",
    "for word in raw_data:\n",
    "    if word.casefold() not in stop_words:\n",
    "        filtered.append(word)"
   ]
  },
  {
   "cell_type": "code",
   "execution_count": 11,
   "id": "ba1e20de-4826-4072-8e16-50f13f20c23d",
   "metadata": {},
   "outputs": [],
   "source": [
    "lemmatizer = WordNetLemmatizer()\n",
    "lemmatized = [lemmatizer.lemmatize(word) for word in filtered]"
   ]
  },
  {
   "cell_type": "code",
   "execution_count": 12,
   "id": "7af7c4f1-a964-493e-a440-61ff7fe4f369",
   "metadata": {},
   "outputs": [
    {
     "name": "stdout",
     "output_type": "stream",
     "text": [
      "Artist: Lupe-Fiasco\n",
      "Album: drill\n",
      "No. of tracks: 9\n",
      "Unique words: 1074\n",
      "Lexical diversity: 71.5\n"
     ]
    }
   ],
   "source": [
    "unique = set(lemmatized)\n",
    "lex_div = len(unique) / len(lemmatized) * 100\n",
    "print(f'Artist: {artist}')\n",
    "print(f'Album: {album}')\n",
    "print(f'No. of tracks: {len(db[x][2])}')\n",
    "print(f'Unique words: {len(unique)}')\n",
    "print(f'Lexical diversity: {round(lex_div,2)}')"
   ]
  },
  {
   "cell_type": "code",
   "execution_count": 13,
   "id": "0c4e1370-be15-428b-befc-2dc8da272daf",
   "metadata": {},
   "outputs": [
    {
     "data": {
      "image/png": "[encoded data removed]",
      "text/plain": [
       "<Figure size 432x288 with 1 Axes>"
      ]
     },
     "metadata": {
      "needs_background": "light"
     },
     "output_type": "display_data"
    },
    {
     "data": {
      "text/plain": [
       "[('street', 24),\n",
       " ('like', 21),\n",
       " ('got', 14),\n",
       " ('go', 10),\n",
       " ('said', 9),\n",
       " ('yeah', 9),\n",
       " ('talk', 9),\n",
       " ('know', 9),\n",
       " ('see', 8),\n",
       " ('get', 8),\n",
       " ('precious', 8),\n",
       " ('Malcolm', 8),\n",
       " ('let', 7),\n",
       " ('keep', 7),\n",
       " ('put', 7),\n",
       " ('really', 7),\n",
       " ('turn', 6),\n",
       " ('hand', 6),\n",
       " ('thing', 6),\n",
       " ('nigga', 6)]"
      ]
     },
     "execution_count": 13,
     "metadata": {},
     "output_type": "execute_result"
    }
   ],
   "source": [
    "frequency = FreqDist(lemmatized)\n",
    "frequency.plot(20)\n",
    "frequency.most_common(20)"
   ]
  },
  {
   "cell_type": "code",
   "execution_count": null,
   "id": "8435bd85",
   "metadata": {},
   "outputs": [],
   "source": []
  }
 ],
 "metadata": {
  "kernelspec": {
   "display_name": "Python 3 (ipykernel)",
   "language": "python",
   "name": "python3"
  },
  "language_info": {
   "codemirror_mode": {
    "name": "ipython",
    "version": 3
   },
   "file_extension": ".py",
   "mimetype": "text/x-python",
   "name": "python",
   "nbconvert_exporter": "python",
   "pygments_lexer": "ipython3",
   "version": "3.9.7"
  }
 },
 "nbformat": 4,
 "nbformat_minor": 5
}
